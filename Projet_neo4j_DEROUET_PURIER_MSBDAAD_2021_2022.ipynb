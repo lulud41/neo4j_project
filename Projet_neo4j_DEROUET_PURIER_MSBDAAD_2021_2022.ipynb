{
 "cells": [
  {
   "cell_type": "markdown",
   "id": "1c426bd1",
   "metadata": {},
   "source": [
    "# <center>Projet Neo4j - PapersWithCode</center>"
   ]
  },
  {
   "cell_type": "markdown",
   "id": "bdbf9598",
   "metadata": {},
   "source": [
    "**<center>Lucien DEROUET - Antoine PURIER</center>**"
   ]
  },
  {
   "cell_type": "markdown",
   "id": "e3b2a4f9",
   "metadata": {},
   "source": [
    "## Introduction"
   ]
  },
  {
   "cell_type": "markdown",
   "id": "09b38ae2",
   "metadata": {},
   "source": [
    "&emsp;&emsp;Dans le cadre de notre projet neo4j, nous construisons une base de données graphe à partir des metadonnées de publications hébergées sur le site https://paperswithcode.com. Des informations supplémentaires sur ces publications sont également récupérées sur d'autres sites via des API et du scraping.\n",
    "\n",
    "Le but est ensuite de requêter cette base pour répondre à des questions sur le dataset, telles que:\n",
    "- REMPLACER PAR REQUÊTE 1\n",
    "- REMPLACER PAR REQUÊTE 2\n",
    "- REMPLACER PAR REQUÊTE 3\n",
    "- ..."
   ]
  },
  {
   "cell_type": "markdown",
   "id": "699fa819",
   "metadata": {},
   "source": [
    "## Les Données"
   ]
  },
  {
   "cell_type": "markdown",
   "id": "27c30b34",
   "metadata": {},
   "source": [
    "&emsp;&emsp;Pour la récupération des données et la construction de notre dataset, nous partons du site https://paperswithcode.com. Son API publique nous permet facilement de récupérer les métadonnées des plus de 900.000 publications qu'il héberge.\n",
    "\n",
    "&emsp;&emsp;Les metadonnées pour chaque papier sont stockées dans un dictionnaire qui est exporté au format json. Nous construirons notre BDD graphe à partir de ce fichier json d'entrée.\n",
    "\n",
    "&emsp;&emsp;Ci-dessous un flowchart illustrant les différents briques mises en place pour la construction du dataset."
   ]
  },
  {
   "cell_type": "markdown",
   "id": "74245b52",
   "metadata": {},
   "source": [
    "![title](flowchart.png)"
   ]
  },
  {
   "cell_type": "markdown",
   "id": "dc9914ca",
   "metadata": {},
   "source": [
    "Le code ayant servi à récupérer et à construire le dataset se trouve en annexe dans le dossier de rendu.\n",
    "\n",
    "Dans la prochaine section, nous nous connectons à Neo4j et nous créons la base de donnée."
   ]
  },
  {
   "cell_type": "markdown",
   "id": "322ffe0c",
   "metadata": {},
   "source": [
    "## Connexion à Neo4j"
   ]
  },
  {
   "cell_type": "markdown",
   "id": "3594a513",
   "metadata": {},
   "source": [
    "Nous commençons par vérifier la version de neo4j installée sur la machine."
   ]
  },
  {
   "cell_type": "code",
   "execution_count": 1,
   "id": "22ef1a06",
   "metadata": {},
   "outputs": [
    {
     "name": "stdout",
     "output_type": "stream",
     "text": [
      "4.4.1\n"
     ]
    }
   ],
   "source": [
    "from neo4j import __version__ as neo4j_version\n",
    "print(neo4j_version)"
   ]
  },
  {
   "cell_type": "markdown",
   "id": "85521749",
   "metadata": {},
   "source": [
    "Nous créons ensuite une classe pour la connexion à neo4j."
   ]
  },
  {
   "cell_type": "code",
   "execution_count": 2,
   "id": "cfa6a9db",
   "metadata": {},
   "outputs": [],
   "source": [
    "from neo4j import GraphDatabase\n",
    "\n",
    "class Neo4jConnection:\n",
    "    \n",
    "    def __init__(self, uri, user, pwd):\n",
    "        self.__uri = uri\n",
    "        self.__user = user\n",
    "        self.__pwd = pwd\n",
    "        self.__driver = None\n",
    "        try:\n",
    "            self.__driver = GraphDatabase.driver(self.__uri, auth=(self.__user, self.__pwd))\n",
    "        except Exception as e:\n",
    "            print(\"Failed to create the driver:\", e)\n",
    "        \n",
    "    def close(self):\n",
    "        if self.__driver is not None:\n",
    "            self.__driver.close()\n",
    "        \n",
    "    def query(self, query, db=None):\n",
    "        assert self.__driver is not None, \"Driver not initialized!\"\n",
    "        session = None\n",
    "        response = None\n",
    "        try: \n",
    "            session = self.__driver.session(database=db) if db is not None else self.__driver.session() \n",
    "            response = list(session.run(query))\n",
    "        except Exception as e:\n",
    "            print(\"Query failed:\", e)\n",
    "        finally: \n",
    "            if session is not None:\n",
    "                session.close()\n",
    "        return response"
   ]
  },
  {
   "cell_type": "markdown",
   "id": "eb9a9686",
   "metadata": {},
   "source": [
    "Puis nous instantions une connexion."
   ]
  },
  {
   "cell_type": "code",
   "execution_count": 3,
   "id": "e0acad91",
   "metadata": {},
   "outputs": [],
   "source": [
    "conn = Neo4jConnection(uri=\"bolt://localhost:7687\", user=\"antoine\", pwd=\"easypassword\")"
   ]
  },
  {
   "cell_type": "markdown",
   "id": "289845e1",
   "metadata": {},
   "source": [
    "## Création de la Base"
   ]
  },
  {
   "cell_type": "markdown",
   "id": "884da45a",
   "metadata": {},
   "source": [
    "Nous créons maintenant la base de données graphe `paperswithcode`."
   ]
  },
  {
   "cell_type": "code",
   "execution_count": 7,
   "id": "274d6f80",
   "metadata": {},
   "outputs": [
    {
     "data": {
      "text/plain": [
       "[]"
      ]
     },
     "execution_count": 7,
     "metadata": {},
     "output_type": "execute_result"
    }
   ],
   "source": [
    "conn.query(\"CREATE OR REPLACE DATABASE paperswithcode\")"
   ]
  },
  {
   "cell_type": "markdown",
   "id": "6df084ed",
   "metadata": {},
   "source": [
    "Puis nous créons les noeuds et les relations du graphe à partir du fichier json.\n",
    "\n",
    "Nous créons 6 noeuds:\n",
    "- `Paper`\n",
    "- `Author`\n",
    "- `Publisher`\n",
    "- `Organisation`\n",
    "- `Conference`\n",
    "- `Keyword`\n",
    "\n",
    "Et nous relions ces noeuds à l'aide de 6 relations:\n",
    "- Un auteur a écrit un papier : `WROTE`\n",
    "- Un papier a été présenté à une conférence : `PRESENTED_AT`\n",
    "- Un éditeur a publié un papier : `PUBLISHED`\n",
    "- Un auteur est affilié à une organisation (université, entreprise, ...) : `AFFILIATED_TO`\n",
    "- Un papier parle d'un sujet (évoque un mot clé) : `TALKS_ABOUT`\n",
    "- Un papier fait référence à un autre papier : `REFERS_TO`"
   ]
  },
  {
   "cell_type": "code",
   "execution_count": null,
   "id": "d0ead3cc",
   "metadata": {},
   "outputs": [],
   "source": [
    "query_string = '''\n",
    "CALL apoc.load.json(\"file:dataset_18k_v7.json\") YIELD value as paper\n",
    "WITH paper, paper.authors as authors, paper.conference as conference, paper.references as references, paper.key_words as keywords\n",
    "UNWIND authors as aut\n",
    "UNWIND conference as conf\n",
    "UNWIND references as ref\n",
    "UNWIND keywords as key\n",
    "MERGE (p:Paper {title: paper.title})\n",
    "SET\n",
    "    p.doi = paper.doi,\n",
    "    p.language = paper.language,\n",
    "    p.arxiv_category = paper.arxiv_category,\n",
    "    p.publication_date = paper.date,\n",
    "    p.references = references\n",
    "MERGE (pub:Publisher {name: paper.publisher})\n",
    "MERGE (a:Author {name: aut.name})\n",
    "MERGE (o:Organisation {name:aut.organisation})\n",
    "MERGE (c:Conference {name: conf.name})\n",
    "MERGE (k:Keyword {name: key})\n",
    "MERGE (a)-[:WROTE]->(p)\n",
    "MERGE (p)-[:PRESENTED_AT]->(c)\n",
    "MERGE (pub)-[:PUBLISHED]->(p)\n",
    "MERGE (a)-[:AFFILIATED_TO]->(o)\n",
    "MERGE (p)-[:TALKS_ABOUT]->(k)\n",
    "'''\n",
    "conn.query(query_string, db='paperswithcode')"
   ]
  },
  {
   "cell_type": "code",
   "execution_count": 6,
   "id": "46bda117",
   "metadata": {},
   "outputs": [
    {
     "data": {
      "text/plain": [
       "[]"
      ]
     },
     "execution_count": 6,
     "metadata": {},
     "output_type": "execute_result"
    }
   ],
   "source": [
    "query_string = '''\n",
    "MATCH\n",
    "  (p:Paper),\n",
    "  (r:Paper)\n",
    "WHERE r.doi IN p.references\n",
    "CREATE (p)-[:REFERS_TO]->(r)\n",
    "'''\n",
    "conn.query(query_string, db='paperswithcode')"
   ]
  },
  {
   "cell_type": "markdown",
   "id": "33d5a07a",
   "metadata": {},
   "source": [
    "## Requête de la Base"
   ]
  },
  {
   "cell_type": "markdown",
   "id": "dce5c276",
   "metadata": {},
   "source": [
    "Maintenant que la base est créée et notre graphe modélisé, nous la requêtons."
   ]
  },
  {
   "cell_type": "code",
   "execution_count": 60,
   "id": "2c2bf22f",
   "metadata": {},
   "outputs": [],
   "source": [
    "import pandas as pd"
   ]
  },
  {
   "cell_type": "code",
   "execution_count": 79,
   "id": "6854719c",
   "metadata": {},
   "outputs": [
    {
     "data": {
      "text/html": [
       "<div>\n",
       "<style scoped>\n",
       "    .dataframe tbody tr th:only-of-type {\n",
       "        vertical-align: middle;\n",
       "    }\n",
       "\n",
       "    .dataframe tbody tr th {\n",
       "        vertical-align: top;\n",
       "    }\n",
       "\n",
       "    .dataframe thead th {\n",
       "        text-align: right;\n",
       "    }\n",
       "</style>\n",
       "<table border=\"1\" class=\"dataframe\">\n",
       "  <thead>\n",
       "    <tr style=\"text-align: right;\">\n",
       "      <th></th>\n",
       "      <th>Nodes Count</th>\n",
       "    </tr>\n",
       "  </thead>\n",
       "  <tbody>\n",
       "    <tr>\n",
       "      <th>Paper</th>\n",
       "      <td>&lt;NA&gt;</td>\n",
       "    </tr>\n",
       "    <tr>\n",
       "      <th>Author</th>\n",
       "      <td>&lt;NA&gt;</td>\n",
       "    </tr>\n",
       "    <tr>\n",
       "      <th>Publisher</th>\n",
       "      <td>&lt;NA&gt;</td>\n",
       "    </tr>\n",
       "    <tr>\n",
       "      <th>Organisation</th>\n",
       "      <td>&lt;NA&gt;</td>\n",
       "    </tr>\n",
       "    <tr>\n",
       "      <th>Conference</th>\n",
       "      <td>&lt;NA&gt;</td>\n",
       "    </tr>\n",
       "    <tr>\n",
       "      <th>Keyword</th>\n",
       "      <td>&lt;NA&gt;</td>\n",
       "    </tr>\n",
       "  </tbody>\n",
       "</table>\n",
       "</div>"
      ],
      "text/plain": [
       "             Nodes Count\n",
       "Paper               <NA>\n",
       "Author              <NA>\n",
       "Publisher           <NA>\n",
       "Organisation        <NA>\n",
       "Conference          <NA>\n",
       "Keyword             <NA>"
      ]
     },
     "execution_count": 79,
     "metadata": {},
     "output_type": "execute_result"
    }
   ],
   "source": [
    "labels = [\"Paper\", \"Author\", \"Publisher\", \"Organisation\", \"Conference\", \"Keyword\"]\n",
    "\n",
    "d = {\"Nodes Count\": pd.NA}\n",
    "df_res = pd.DataFrame(data=d, index=labels)\n",
    "df_res"
   ]
  },
  {
   "cell_type": "markdown",
   "id": "079ee058",
   "metadata": {},
   "source": [
    "### Requête 1: Combien y-a-t-il de noeuds distincts pour chaque label?"
   ]
  },
  {
   "cell_type": "code",
   "execution_count": 108,
   "id": "ad89d2f8",
   "metadata": {},
   "outputs": [
    {
     "data": {
      "text/html": [
       "<div>\n",
       "<style scoped>\n",
       "    .dataframe tbody tr th:only-of-type {\n",
       "        vertical-align: middle;\n",
       "    }\n",
       "\n",
       "    .dataframe tbody tr th {\n",
       "        vertical-align: top;\n",
       "    }\n",
       "\n",
       "    .dataframe thead th {\n",
       "        text-align: right;\n",
       "    }\n",
       "</style>\n",
       "<table border=\"1\" class=\"dataframe\">\n",
       "  <thead>\n",
       "    <tr style=\"text-align: right;\">\n",
       "      <th></th>\n",
       "      <th>Nombre de Noeuds</th>\n",
       "    </tr>\n",
       "  </thead>\n",
       "  <tbody>\n",
       "    <tr>\n",
       "      <th>Paper</th>\n",
       "      <td>3</td>\n",
       "    </tr>\n",
       "    <tr>\n",
       "      <th>Author</th>\n",
       "      <td>6</td>\n",
       "    </tr>\n",
       "    <tr>\n",
       "      <th>Publisher</th>\n",
       "      <td>2</td>\n",
       "    </tr>\n",
       "    <tr>\n",
       "      <th>Organisation</th>\n",
       "      <td>1</td>\n",
       "    </tr>\n",
       "    <tr>\n",
       "      <th>Conference</th>\n",
       "      <td>3</td>\n",
       "    </tr>\n",
       "    <tr>\n",
       "      <th>Keyword</th>\n",
       "      <td>7</td>\n",
       "    </tr>\n",
       "  </tbody>\n",
       "</table>\n",
       "</div>"
      ],
      "text/plain": [
       "             Nombre de Noeuds\n",
       "Paper                       3\n",
       "Author                      6\n",
       "Publisher                   2\n",
       "Organisation                1\n",
       "Conference                  3\n",
       "Keyword                     7"
      ]
     },
     "metadata": {},
     "output_type": "display_data"
    }
   ],
   "source": [
    "labels = [\"Paper\", \"Author\", \"Publisher\", \"Organisation\", \"Conference\", \"Keyword\"]\n",
    "\n",
    "d = {\"Nombre de Noeuds\": pd.NA}\n",
    "df_res = pd.DataFrame(data=d, index=labels)\n",
    "\n",
    "for label in labels:\n",
    "    query_string = f'''\n",
    "    MATCH (p:{label})\n",
    "    RETURN count(*)\n",
    "    '''\n",
    "    res = [dict(_) for _ in conn.query(query_string, db='paperswithcode')]\n",
    "    df_res.loc[label, \"Nombre de Noeuds\"] = res[0][\"count(*)\"]\n",
    "    \n",
    "display(df_res)   "
   ]
  },
  {
   "cell_type": "markdown",
   "id": "9fc1d95f",
   "metadata": {},
   "source": [
    "### Requête 2: Quels sont les papiers les plus référencés?"
   ]
  },
  {
   "cell_type": "code",
   "execution_count": 115,
   "id": "315e6942",
   "metadata": {},
   "outputs": [
    {
     "data": {
      "text/html": [
       "<div>\n",
       "<style scoped>\n",
       "    .dataframe tbody tr th:only-of-type {\n",
       "        vertical-align: middle;\n",
       "    }\n",
       "\n",
       "    .dataframe tbody tr th {\n",
       "        vertical-align: top;\n",
       "    }\n",
       "\n",
       "    .dataframe thead th {\n",
       "        text-align: right;\n",
       "    }\n",
       "</style>\n",
       "<table border=\"1\" class=\"dataframe\">\n",
       "  <thead>\n",
       "    <tr style=\"text-align: right;\">\n",
       "      <th></th>\n",
       "      <th>Titre du Papier</th>\n",
       "      <th>Nombre de Référencements</th>\n",
       "    </tr>\n",
       "  </thead>\n",
       "  <tbody>\n",
       "    <tr>\n",
       "      <th>0</th>\n",
       "      <td>An algebraic criterion of the Darboux integrab...</td>\n",
       "      <td>2</td>\n",
       "    </tr>\n",
       "    <tr>\n",
       "      <th>1</th>\n",
       "      <td>An Algebraic-Geometric Approach for Linear Reg...</td>\n",
       "      <td>1</td>\n",
       "    </tr>\n",
       "  </tbody>\n",
       "</table>\n",
       "</div>"
      ],
      "text/plain": [
       "                                     Titre du Papier  Nombre de Référencements\n",
       "0  An algebraic criterion of the Darboux integrab...                         2\n",
       "1  An Algebraic-Geometric Approach for Linear Reg...                         1"
      ]
     },
     "execution_count": 115,
     "metadata": {},
     "output_type": "execute_result"
    }
   ],
   "source": [
    "query_string = '''\n",
    "MATCH (p:Paper)-[rel:REFERS_TO]->(r:Paper)\n",
    "RETURN r.title, count(rel) as count\n",
    "ORDER BY count desc\n",
    "LIMIT 5\n",
    "'''\n",
    "\n",
    "df_res = DataFrame([dict(_) for _ in conn.query(query_string, db='paperswithcode')])\n",
    "df_res.rename(columns={\"r.title\":\"Titre du Papier\", \"count\":\"Nombre de Référencements\"})"
   ]
  },
  {
   "cell_type": "markdown",
   "id": "fbdb8ae0",
   "metadata": {},
   "source": [
    "### Requête 3: Quelles sont les organisations les plus représentées dans le dataset?"
   ]
  },
  {
   "cell_type": "code",
   "execution_count": 114,
   "id": "cfd3cd4e",
   "metadata": {},
   "outputs": [
    {
     "data": {
      "text/html": [
       "<div>\n",
       "<style scoped>\n",
       "    .dataframe tbody tr th:only-of-type {\n",
       "        vertical-align: middle;\n",
       "    }\n",
       "\n",
       "    .dataframe tbody tr th {\n",
       "        vertical-align: top;\n",
       "    }\n",
       "\n",
       "    .dataframe thead th {\n",
       "        text-align: right;\n",
       "    }\n",
       "</style>\n",
       "<table border=\"1\" class=\"dataframe\">\n",
       "  <thead>\n",
       "    <tr style=\"text-align: right;\">\n",
       "      <th></th>\n",
       "      <th>Organisation</th>\n",
       "      <th>Auteurs Affiliés</th>\n",
       "    </tr>\n",
       "  </thead>\n",
       "  <tbody>\n",
       "    <tr>\n",
       "      <th>0</th>\n",
       "      <td>Université de Technologie de Troyes</td>\n",
       "      <td>1</td>\n",
       "    </tr>\n",
       "  </tbody>\n",
       "</table>\n",
       "</div>"
      ],
      "text/plain": [
       "                          Organisation  Auteurs Affiliés\n",
       "0  Université de Technologie de Troyes                 1"
      ]
     },
     "execution_count": 114,
     "metadata": {},
     "output_type": "execute_result"
    }
   ],
   "source": [
    "query_string = '''\n",
    "MATCH (o:Organisation)\n",
    "RETURN o.name, count(o) as count\n",
    "ORDER BY count desc\n",
    "LIMIT 3\n",
    "'''\n",
    "\n",
    "df_res = DataFrame([dict(_) for _ in conn.query(query_string, db='paperswithcode')])\n",
    "df_res.rename(columns={\"o.name\":\"Organisation\", \"count\":\"Auteurs Affiliés\"})"
   ]
  },
  {
   "cell_type": "markdown",
   "id": "9e1fa317",
   "metadata": {},
   "source": [
    "### Requête 4: Quels sont les mots clé les plus cités?"
   ]
  },
  {
   "cell_type": "code",
   "execution_count": 117,
   "id": "85afdafb",
   "metadata": {},
   "outputs": [
    {
     "data": {
      "text/html": [
       "<div>\n",
       "<style scoped>\n",
       "    .dataframe tbody tr th:only-of-type {\n",
       "        vertical-align: middle;\n",
       "    }\n",
       "\n",
       "    .dataframe tbody tr th {\n",
       "        vertical-align: top;\n",
       "    }\n",
       "\n",
       "    .dataframe thead th {\n",
       "        text-align: right;\n",
       "    }\n",
       "</style>\n",
       "<table border=\"1\" class=\"dataframe\">\n",
       "  <thead>\n",
       "    <tr style=\"text-align: right;\">\n",
       "      <th></th>\n",
       "      <th>Mot-clé</th>\n",
       "      <th>Nombre de Citations</th>\n",
       "    </tr>\n",
       "  </thead>\n",
       "  <tbody>\n",
       "    <tr>\n",
       "      <th>0</th>\n",
       "      <td>maths</td>\n",
       "      <td>2</td>\n",
       "    </tr>\n",
       "    <tr>\n",
       "      <th>1</th>\n",
       "      <td>Darboux</td>\n",
       "      <td>1</td>\n",
       "    </tr>\n",
       "    <tr>\n",
       "      <th>2</th>\n",
       "      <td>algebra</td>\n",
       "      <td>1</td>\n",
       "    </tr>\n",
       "    <tr>\n",
       "      <th>3</th>\n",
       "      <td>linear regression</td>\n",
       "      <td>1</td>\n",
       "    </tr>\n",
       "    <tr>\n",
       "      <th>4</th>\n",
       "      <td>equations</td>\n",
       "      <td>1</td>\n",
       "    </tr>\n",
       "  </tbody>\n",
       "</table>\n",
       "</div>"
      ],
      "text/plain": [
       "             Mot-clé  Nombre de Citations\n",
       "0              maths                    2\n",
       "1            Darboux                    1\n",
       "2            algebra                    1\n",
       "3  linear regression                    1\n",
       "4          equations                    1"
      ]
     },
     "execution_count": 117,
     "metadata": {},
     "output_type": "execute_result"
    }
   ],
   "source": [
    "query_string = '''\n",
    "MATCH (p:Paper)-[rel:TALKS_ABOUT]->(k:Keyword)\n",
    "RETURN k.name, count(rel) as count\n",
    "ORDER BY count desc\n",
    "LIMIT 5\n",
    "'''\n",
    "\n",
    "df_res = DataFrame([dict(_) for _ in conn.query(query_string, db='paperswithcode')])\n",
    "df_res.rename(columns={\"k.name\":\"Mot-clé\", \"count\":\"Nombre de Citations\"})"
   ]
  },
  {
   "cell_type": "markdown",
   "id": "a1736baa",
   "metadata": {},
   "source": [
    "### Requête 5: Quel est le nombre de papiers publiés par publishers?"
   ]
  },
  {
   "cell_type": "code",
   "execution_count": null,
   "id": "5e08872b",
   "metadata": {},
   "outputs": [],
   "source": [
    "query_string = '''\n",
    "\n",
    "'''\n",
    "conn.query(query_string, db=\"paperswithcode\")"
   ]
  },
  {
   "cell_type": "markdown",
   "id": "21741cd1",
   "metadata": {},
   "source": [
    "### Requête 6: Existe-t-il des liens de référence entre certains papiers du dataset?"
   ]
  },
  {
   "cell_type": "code",
   "execution_count": null,
   "id": "500e00d5",
   "metadata": {},
   "outputs": [],
   "source": [
    "query_string = '''\n",
    "\n",
    "'''\n",
    "conn.query(query_string, db=\"paperswithcode\")"
   ]
  },
  {
   "cell_type": "markdown",
   "id": "cc0b4162",
   "metadata": {},
   "source": [
    "### Requête 7"
   ]
  },
  {
   "cell_type": "code",
   "execution_count": null,
   "id": "c30bf5a6",
   "metadata": {},
   "outputs": [],
   "source": [
    "query_string = '''\n",
    "\n",
    "'''\n",
    "conn.query(query_string, db=\"paperswithcode\")"
   ]
  },
  {
   "cell_type": "markdown",
   "id": "a18e4f84",
   "metadata": {},
   "source": [
    "### Requête 8"
   ]
  },
  {
   "cell_type": "code",
   "execution_count": null,
   "id": "a17d8432",
   "metadata": {},
   "outputs": [],
   "source": [
    "query_string = '''\n",
    "\n",
    "'''\n",
    "conn.query(query_string, db=\"paperswithcode\")"
   ]
  },
  {
   "cell_type": "markdown",
   "id": "377afeee",
   "metadata": {},
   "source": [
    "### Requête 9"
   ]
  },
  {
   "cell_type": "code",
   "execution_count": null,
   "id": "04f27322",
   "metadata": {},
   "outputs": [],
   "source": [
    "query_string = '''\n",
    "\n",
    "'''\n",
    "conn.query(query_string, db=\"paperswithcode\")"
   ]
  },
  {
   "cell_type": "markdown",
   "id": "c382b50e",
   "metadata": {},
   "source": [
    "### Requête 10"
   ]
  },
  {
   "cell_type": "code",
   "execution_count": null,
   "id": "6bf037dd",
   "metadata": {},
   "outputs": [],
   "source": [
    "query_string = '''\n",
    "\n",
    "'''\n",
    "conn.query(query_string, db=\"paperswithcode\")"
   ]
  },
  {
   "cell_type": "markdown",
   "id": "b753bd98",
   "metadata": {},
   "source": [
    "## Fermeture de la Connexion"
   ]
  },
  {
   "cell_type": "code",
   "execution_count": null,
   "id": "bea5b7ce",
   "metadata": {},
   "outputs": [],
   "source": [
    "conn.close()"
   ]
  }
 ],
 "metadata": {
  "kernelspec": {
   "display_name": "Python 3 (ipykernel)",
   "language": "python",
   "name": "python3"
  },
  "language_info": {
   "codemirror_mode": {
    "name": "ipython",
    "version": 3
   },
   "file_extension": ".py",
   "mimetype": "text/x-python",
   "name": "python",
   "nbconvert_exporter": "python",
   "pygments_lexer": "ipython3",
   "version": "3.8.12"
  }
 },
 "nbformat": 4,
 "nbformat_minor": 5
}
