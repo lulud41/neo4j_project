{
 "cells": [
  {
   "cell_type": "markdown",
   "id": "1c426bd1",
   "metadata": {},
   "source": [
    "# <center>Projet Neo4j - PapersWithCode</center>"
   ]
  },
  {
   "cell_type": "markdown",
   "id": "bdbf9598",
   "metadata": {},
   "source": [
    "**<center>Lucien DEROUET - Antoine PURIER</center>**"
   ]
  },
  {
   "cell_type": "markdown",
   "id": "e3b2a4f9",
   "metadata": {},
   "source": [
    "## Introduction"
   ]
  },
  {
   "cell_type": "markdown",
   "id": "09b38ae2",
   "metadata": {},
   "source": [
    "&emsp;&emsp;Dans le cadre de notre projet neo4j, nous construisons une base de données graphe à partir des metadonnées de publications hébergées sur le site https://paperswithcode.com. Des informations supplémentaires sur ces publications sont également récupérées sur d'autres sites via des API et du scraping.\n",
    "\n",
    "Le but est ensuite de requêter cette base pour répondre à des questions sur le dataset, telles que:\n",
    "- REMPLACER PAR REQUÊTE 1\n",
    "- REMPLACER PAR REQUÊTE 2\n",
    "- REMPLACER PAR REQUÊTE 3\n",
    "- ..."
   ]
  },
  {
   "cell_type": "markdown",
   "id": "699fa819",
   "metadata": {},
   "source": [
    "## Les Données"
   ]
  },
  {
   "cell_type": "markdown",
   "id": "27c30b34",
   "metadata": {},
   "source": [
    "&emsp;&emsp;Pour la récupération des données et la construction de notre dataset, nous partons du site https://paperswithcode.com. Son API publique nous permet facilement de récupérer les métadonnées des plus de 900.000 publications qu'il héberge.\n",
    "\n",
    "&emsp;&emsp;Les metadonnées pour chaque papier sont stockées dans un dictionnaire qui est exporté au format json. Nous construirons notre BDD graphe à partir de ce fichier json d'entrée.\n",
    "\n",
    "&emsp;&emsp;Ci-dessous un flowchart illustrant les différents briques mises en place pour la construction du dataset."
   ]
  },
  {
   "cell_type": "markdown",
   "id": "74245b52",
   "metadata": {},
   "source": [
    "![title](flowchart.png)"
   ]
  },
  {
   "cell_type": "markdown",
   "id": "dc9914ca",
   "metadata": {},
   "source": [
    "Le code ayant servi à récupérer et à construire le dataset se trouve en annexe dans le dossier de rendu.\n",
    "\n",
    "Dans la prochaine section, nous nous connectons à Neo4j et nous créons la base de donnée."
   ]
  },
  {
   "cell_type": "markdown",
   "id": "322ffe0c",
   "metadata": {},
   "source": [
    "## Connexion à Neo4j"
   ]
  },
  {
   "cell_type": "markdown",
   "id": "3594a513",
   "metadata": {},
   "source": [
    "Nous commençons par vérifier la version de neo4j installée sur la machine."
   ]
  },
  {
   "cell_type": "code",
   "execution_count": 1,
   "id": "22ef1a06",
   "metadata": {},
   "outputs": [
    {
     "name": "stdout",
     "output_type": "stream",
     "text": [
      "4.4.1\n"
     ]
    }
   ],
   "source": [
    "from neo4j import __version__ as neo4j_version\n",
    "print(neo4j_version)"
   ]
  },
  {
   "cell_type": "markdown",
   "id": "85521749",
   "metadata": {},
   "source": [
    "Nous créons ensuite une classe pour la connexion à neo4j."
   ]
  },
  {
   "cell_type": "code",
   "execution_count": 3,
   "id": "cfa6a9db",
   "metadata": {},
   "outputs": [],
   "source": [
    "from neo4j import GraphDatabase\n",
    "\n",
    "class Neo4jConnection:\n",
    "    \n",
    "    def __init__(self, uri, user, pwd):\n",
    "        self.__uri = uri\n",
    "        self.__user = user\n",
    "        self.__pwd = pwd\n",
    "        self.__driver = None\n",
    "        try:\n",
    "            self.__driver = GraphDatabase.driver(self.__uri, auth=(self.__user, self.__pwd))\n",
    "        except Exception as e:\n",
    "            print(\"Failed to create the driver:\", e)\n",
    "        \n",
    "    def close(self):\n",
    "        if self.__driver is not None:\n",
    "            self.__driver.close()\n",
    "        \n",
    "    def query(self, query, db=None):\n",
    "        assert self.__driver is not None, \"Driver not initialized!\"\n",
    "        session = None\n",
    "        response = None\n",
    "        try: \n",
    "            session = self.__driver.session(database=db) if db is not None else self.__driver.session() \n",
    "            response = list(session.run(query))\n",
    "        except Exception as e:\n",
    "            print(\"Query failed:\", e)\n",
    "        finally: \n",
    "            if session is not None:\n",
    "                session.close()\n",
    "        return response"
   ]
  },
  {
   "cell_type": "markdown",
   "id": "eb9a9686",
   "metadata": {},
   "source": [
    "Puis nous instantions une connexion."
   ]
  },
  {
   "cell_type": "code",
   "execution_count": 4,
   "id": "e0acad91",
   "metadata": {},
   "outputs": [],
   "source": [
    "conn = Neo4jConnection(uri=\"bolt://localhost:7687\", user=\"antoine\", pwd=\"easypassword\")"
   ]
  },
  {
   "cell_type": "markdown",
   "id": "289845e1",
   "metadata": {},
   "source": [
    "## Création de la Base"
   ]
  },
  {
   "cell_type": "markdown",
   "id": "884da45a",
   "metadata": {},
   "source": [
    "Nous créons maintenant la base de données graphe `paperswithcode`."
   ]
  },
  {
   "cell_type": "code",
   "execution_count": 84,
   "id": "274d6f80",
   "metadata": {},
   "outputs": [
    {
     "data": {
      "text/plain": [
       "[]"
      ]
     },
     "execution_count": 84,
     "metadata": {},
     "output_type": "execute_result"
    }
   ],
   "source": [
    "conn.query(\"CREATE OR REPLACE DATABASE paperswithcode\")"
   ]
  },
  {
   "cell_type": "markdown",
   "id": "6df084ed",
   "metadata": {},
   "source": [
    "Puis nous créons les noeuds et les relations du graphe à partir du fichier json.\n",
    "\n",
    "Nous créons 6 noeuds:\n",
    "- `Paper`\n",
    "- `Author`\n",
    "- `Publisher`\n",
    "- `Organisation`\n",
    "- `Conference`\n",
    "- `Keyword`\n",
    "\n",
    "Et nous relions ces noeuds à l'aide de 6 relations:\n",
    "- Un auteur a écrit un papier : `WROTE`\n",
    "- Un papier a été présenté à une conférence : `PRESENTED_AT`\n",
    "- Un éditeur a publié un papier : `PUBLISHED`\n",
    "- Un auteur est affilié à une organisation (université, entreprise, ...) : `AFFILIATED_TO`\n",
    "- Un papier parle d'un sujet (évoque un mot clé) : `TALKS_ABOUT`\n",
    "- Un papier fait référence à un autre papier : `REFERS_TO`"
   ]
  },
  {
   "cell_type": "code",
   "execution_count": 86,
   "id": "ad210cdd",
   "metadata": {},
   "outputs": [],
   "source": [
    "# Import du module `time` pour chronométrer nos requêtes\n",
    "import time\n",
    "\n",
    "# Fichier à charger (à placer dans le dossier `Import`)\n",
    "file = \"dataset_18K_v7.json\""
   ]
  },
  {
   "cell_type": "markdown",
   "id": "a7d93e71",
   "metadata": {},
   "source": [
    "### Création des noeuds `Paper`"
   ]
  },
  {
   "cell_type": "code",
   "execution_count": 87,
   "id": "567b45ac",
   "metadata": {},
   "outputs": [
    {
     "data": {
      "text/plain": [
       "[]"
      ]
     },
     "execution_count": 87,
     "metadata": {},
     "output_type": "execute_result"
    }
   ],
   "source": [
    "query_string = '''\n",
    "CREATE CONSTRAINT ON (p:Paper) ASSERT p.doi IS UNIQUE\n",
    "'''\n",
    "conn.query(query_string, db='paperswithcode')"
   ]
  },
  {
   "cell_type": "code",
   "execution_count": 88,
   "id": "a046ff63",
   "metadata": {},
   "outputs": [
    {
     "data": {
      "text/plain": [
       "[]"
      ]
     },
     "execution_count": 88,
     "metadata": {},
     "output_type": "execute_result"
    }
   ],
   "source": [
    "query_string = '''\n",
    "CREATE CONSTRAINT ON (p:Paper) ASSERT exists(p.doi)\n",
    "'''\n",
    "conn.query(query_string, db='paperswithcode')"
   ]
  },
  {
   "cell_type": "code",
   "execution_count": 89,
   "id": "c6f4e6bc",
   "metadata": {},
   "outputs": [
    {
     "name": "stdout",
     "output_type": "stream",
     "text": [
      "26.54481291770935\n"
     ]
    }
   ],
   "source": [
    "start = time.time()\n",
    "query_string = f'''\n",
    "CALL apoc.periodic.iterate(\n",
    "\"CALL apoc.load.json('file:{file}') YIELD value as paper\",\n",
    "\"MERGE (p:Paper {{title: paper.title}})\n",
    "SET\n",
    "    p.doi = paper.doi,\n",
    "    p.language = paper.language,\n",
    "    p.arxiv_category = paper.arxiv_category,\n",
    "    p.publication_date = paper.date,\n",
    "    p.references = paper.references\",\n",
    "{{batchSize:100, parallel:true}})\n",
    "'''\n",
    "conn.query(query_string, db='paperswithcode')\n",
    "end = time.time()\n",
    "elapsed = end - start\n",
    "print(elapsed)"
   ]
  },
  {
   "cell_type": "markdown",
   "id": "2f3f62aa",
   "metadata": {},
   "source": [
    "### Création des noeuds `Author`"
   ]
  },
  {
   "cell_type": "code",
   "execution_count": 90,
   "id": "f7086b00",
   "metadata": {},
   "outputs": [
    {
     "data": {
      "text/plain": [
       "[]"
      ]
     },
     "execution_count": 90,
     "metadata": {},
     "output_type": "execute_result"
    }
   ],
   "source": [
    "query_string = '''\n",
    "CREATE CONSTRAINT ON (a:Author) ASSERT a.name IS UNIQUE\n",
    "'''\n",
    "conn.query(query_string, db='paperswithcode')"
   ]
  },
  {
   "cell_type": "code",
   "execution_count": 91,
   "id": "404f1a70",
   "metadata": {},
   "outputs": [
    {
     "data": {
      "text/plain": [
       "[]"
      ]
     },
     "execution_count": 91,
     "metadata": {},
     "output_type": "execute_result"
    }
   ],
   "source": [
    "query_string = '''\n",
    "CREATE CONSTRAINT ON (a:Author) ASSERT exists(a.name)\n",
    "'''\n",
    "conn.query(query_string, db='paperswithcode')"
   ]
  },
  {
   "cell_type": "code",
   "execution_count": 92,
   "id": "4b4df831",
   "metadata": {},
   "outputs": [
    {
     "name": "stdout",
     "output_type": "stream",
     "text": [
      "3.779695987701416\n"
     ]
    }
   ],
   "source": [
    "start = time.time()\n",
    "query_string = f'''\n",
    "CALL apoc.periodic.iterate(\n",
    "\"CALL apoc.load.json('file:{file}') YIELD value as paper\",\n",
    "\"WITH paper.authors as authors\n",
    "UNWIND\n",
    "    CASE\n",
    "        WHEN authors = [] THEN [null]\n",
    "        ELSE authors\n",
    "    END AS aut\n",
    "WITH aut\n",
    "WHERE aut IS NOT NULL\n",
    "MERGE (a:Author {{name: aut.name}})\",\n",
    "{{batchSize:100, parallel:true}})\n",
    "'''\n",
    "conn.query(query_string, db='paperswithcode')\n",
    "end = time.time()\n",
    "elapsed = end - start\n",
    "print(elapsed)"
   ]
  },
  {
   "cell_type": "markdown",
   "id": "98bd734d",
   "metadata": {},
   "source": [
    "### Création des noeuds `Organisation`"
   ]
  },
  {
   "cell_type": "code",
   "execution_count": 93,
   "id": "71c4f4cf",
   "metadata": {},
   "outputs": [
    {
     "data": {
      "text/plain": [
       "[]"
      ]
     },
     "execution_count": 93,
     "metadata": {},
     "output_type": "execute_result"
    }
   ],
   "source": [
    "query_string = '''\n",
    "CREATE CONSTRAINT ON (o:Organisation) ASSERT o.name IS UNIQUE\n",
    "'''\n",
    "conn.query(query_string, db='paperswithcode')"
   ]
  },
  {
   "cell_type": "code",
   "execution_count": 94,
   "id": "0973be93",
   "metadata": {},
   "outputs": [
    {
     "data": {
      "text/plain": [
       "[]"
      ]
     },
     "execution_count": 94,
     "metadata": {},
     "output_type": "execute_result"
    }
   ],
   "source": [
    "query_string = '''\n",
    "CREATE CONSTRAINT ON (o:Organisation) ASSERT exists(o.name)\n",
    "'''\n",
    "conn.query(query_string, db='paperswithcode')"
   ]
  },
  {
   "cell_type": "code",
   "execution_count": 95,
   "id": "1a386d80",
   "metadata": {},
   "outputs": [
    {
     "name": "stdout",
     "output_type": "stream",
     "text": [
      "4.339322090148926\n"
     ]
    }
   ],
   "source": [
    "start = time.time()\n",
    "query_string = f'''\n",
    "CALL apoc.periodic.iterate(\n",
    "\"CALL apoc.load.json('file:{file}') YIELD value as paper\",\n",
    "\"WITH paper.authors as authors\n",
    "UNWIND authors as aut\n",
    "UNWIND\n",
    "    CASE\n",
    "        WHEN aut.organisation = [] THEN [null]\n",
    "        ELSE aut.organisation\n",
    "    END AS org\n",
    "WITH org\n",
    "WHERE org IS NOT NULL\n",
    "MERGE (o:Organisation {{name: org.name}})\",\n",
    "{{batchSize:100, parallel:true}})\n",
    "'''\n",
    "conn.query(query_string, db='paperswithcode')\n",
    "end = time.time()\n",
    "elapsed = end - start\n",
    "print(elapsed)"
   ]
  },
  {
   "cell_type": "markdown",
   "id": "0e9bbbf7",
   "metadata": {},
   "source": [
    "### Création des noeuds `Keyword`"
   ]
  },
  {
   "cell_type": "code",
   "execution_count": 96,
   "id": "bdfe3c65",
   "metadata": {},
   "outputs": [
    {
     "data": {
      "text/plain": [
       "[]"
      ]
     },
     "execution_count": 96,
     "metadata": {},
     "output_type": "execute_result"
    }
   ],
   "source": [
    "query_string = '''\n",
    "CREATE CONSTRAINT ON (k:Keyword) ASSERT k.name IS UNIQUE\n",
    "'''\n",
    "conn.query(query_string, db='paperswithcode')"
   ]
  },
  {
   "cell_type": "code",
   "execution_count": 97,
   "id": "26505b85",
   "metadata": {},
   "outputs": [
    {
     "data": {
      "text/plain": [
       "[]"
      ]
     },
     "execution_count": 97,
     "metadata": {},
     "output_type": "execute_result"
    }
   ],
   "source": [
    "query_string = '''\n",
    "CREATE CONSTRAINT ON (k:Keyword) ASSERT exists(k.name)\n",
    "'''\n",
    "conn.query(query_string, db='paperswithcode')"
   ]
  },
  {
   "cell_type": "code",
   "execution_count": 98,
   "id": "0dd9d9a3",
   "metadata": {},
   "outputs": [
    {
     "name": "stdout",
     "output_type": "stream",
     "text": [
      "3.759504795074463\n"
     ]
    }
   ],
   "source": [
    "start = time.time()\n",
    "query_string = f'''\n",
    "CALL apoc.periodic.iterate(\n",
    "\"CALL apoc.load.json('file:{file}') YIELD value as paper\",\n",
    "\"WITH paper.key_words as keywords\n",
    "UNWIND\n",
    "    CASE\n",
    "        WHEN keywords = [] THEN [null]\n",
    "        ELSE keywords\n",
    "    END AS key\n",
    "WITH key \n",
    "WHERE key IS NOT NULL\n",
    "MERGE (k:Keyword {{name: key}})\",\n",
    "{{batchSize:100, parallel:true}})\n",
    "'''\n",
    "conn.query(query_string, db='paperswithcode')\n",
    "end = time.time()\n",
    "elapsed = end - start\n",
    "print(elapsed)"
   ]
  },
  {
   "cell_type": "markdown",
   "id": "216e82a5",
   "metadata": {},
   "source": [
    "### Création des noeuds `Publisher`"
   ]
  },
  {
   "cell_type": "code",
   "execution_count": 99,
   "id": "d0cc9eb3",
   "metadata": {},
   "outputs": [
    {
     "data": {
      "text/plain": [
       "[]"
      ]
     },
     "execution_count": 99,
     "metadata": {},
     "output_type": "execute_result"
    }
   ],
   "source": [
    "query_string = '''\n",
    "CREATE CONSTRAINT ON (pub:Publisher) ASSERT pub.name IS UNIQUE\n",
    "'''\n",
    "conn.query(query_string, db='paperswithcode')"
   ]
  },
  {
   "cell_type": "code",
   "execution_count": 100,
   "id": "5c14c25d",
   "metadata": {},
   "outputs": [
    {
     "data": {
      "text/plain": [
       "[]"
      ]
     },
     "execution_count": 100,
     "metadata": {},
     "output_type": "execute_result"
    }
   ],
   "source": [
    "query_string = '''\n",
    "CREATE CONSTRAINT ON (pub:Publisher) ASSERT exists(pub.name)\n",
    "'''\n",
    "conn.query(query_string, db='paperswithcode')"
   ]
  },
  {
   "cell_type": "code",
   "execution_count": 101,
   "id": "dcc9e053",
   "metadata": {},
   "outputs": [
    {
     "name": "stdout",
     "output_type": "stream",
     "text": [
      "3.189958095550537\n"
     ]
    }
   ],
   "source": [
    "start = time.time()\n",
    "query_string = f'''\n",
    "CALL apoc.periodic.iterate(\n",
    "\"CALL apoc.load.json('file:{file}') YIELD value as paper\",\n",
    "\"MERGE (pub:Publisher {{name: paper.publisher}})\",\n",
    "{{batchSize:100, parallel:true}})\n",
    "'''\n",
    "conn.query(query_string, db='paperswithcode')\n",
    "end = time.time()\n",
    "elapsed = end - start\n",
    "print(elapsed)"
   ]
  },
  {
   "cell_type": "markdown",
   "id": "b81267bd",
   "metadata": {},
   "source": [
    "### Création des noeuds `Conference`"
   ]
  },
  {
   "cell_type": "code",
   "execution_count": 102,
   "id": "99cbfe8c",
   "metadata": {},
   "outputs": [
    {
     "data": {
      "text/plain": [
       "[]"
      ]
     },
     "execution_count": 102,
     "metadata": {},
     "output_type": "execute_result"
    }
   ],
   "source": [
    "query_string = '''\n",
    "CREATE CONSTRAINT ON (c:Conference) ASSERT c.name IS UNIQUE\n",
    "'''\n",
    "conn.query(query_string, db='paperswithcode')"
   ]
  },
  {
   "cell_type": "code",
   "execution_count": 103,
   "id": "ecf5eb0b",
   "metadata": {},
   "outputs": [
    {
     "data": {
      "text/plain": [
       "[]"
      ]
     },
     "execution_count": 103,
     "metadata": {},
     "output_type": "execute_result"
    }
   ],
   "source": [
    "query_string = '''\n",
    "CREATE CONSTRAINT ON (c:Conference) ASSERT exists(c.name)\n",
    "'''\n",
    "conn.query(query_string, db='paperswithcode')"
   ]
  },
  {
   "cell_type": "code",
   "execution_count": 104,
   "id": "d7cce38b",
   "metadata": {},
   "outputs": [
    {
     "name": "stdout",
     "output_type": "stream",
     "text": [
      "2.3070120811462402\n"
     ]
    }
   ],
   "source": [
    "start = time.time()\n",
    "query_string = f'''\n",
    "CALL apoc.periodic.iterate(\n",
    "\"CALL apoc.load.json('file:{file}') YIELD value as paper\",\n",
    "\"WITH paper.conference as conference\n",
    "MERGE (c:Conference {{name: conference.name}})\n",
    "SET\n",
    "    c.date = conference.date,\n",
    "    c.location = conference.location\",\n",
    "{{batchSize:100, parallel:true}})\n",
    "'''\n",
    "conn.query(query_string, db='paperswithcode')\n",
    "end = time.time()\n",
    "elapsed = end - start\n",
    "print(elapsed)"
   ]
  },
  {
   "cell_type": "markdown",
   "id": "d4791ff4",
   "metadata": {},
   "source": [
    "### Création des relations entre les noeuds `Paper` et `Author`"
   ]
  },
  {
   "cell_type": "code",
   "execution_count": 105,
   "id": "221c8db4",
   "metadata": {},
   "outputs": [
    {
     "name": "stdout",
     "output_type": "stream",
     "text": [
      "4.892545938491821\n"
     ]
    }
   ],
   "source": [
    "start = time.time()\n",
    "query_string = f'''\n",
    "CALL apoc.periodic.iterate(\n",
    "\"CALL apoc.load.json('file:{file}') YIELD value as paper\",\n",
    "\"UNWIND paper.authors as aut\n",
    "MATCH (p:Paper {{doi: paper.doi}}), (a:Author {{name: aut.name}})\n",
    "MERGE (a)-[:WROTE]->(p)\",\n",
    "{{batchSize:100, parallel:true}})\n",
    "'''\n",
    "conn.query(query_string, db='paperswithcode')\n",
    "end = time.time()\n",
    "elapsed = end - start\n",
    "print(elapsed)"
   ]
  },
  {
   "cell_type": "markdown",
   "id": "1698ac8a",
   "metadata": {},
   "source": [
    "### Création des relations entre les noeuds `Paper` et `Keyword`"
   ]
  },
  {
   "cell_type": "code",
   "execution_count": 106,
   "id": "92265780",
   "metadata": {},
   "outputs": [
    {
     "name": "stdout",
     "output_type": "stream",
     "text": [
      "4.991285085678101\n"
     ]
    }
   ],
   "source": [
    "start = time.time()\n",
    "query_string = f'''\n",
    "CALL apoc.periodic.iterate(\n",
    "\"CALL apoc.load.json('file:{file}') YIELD value as paper\",\n",
    "\"UNWIND\n",
    "    CASE\n",
    "        WHEN paper.key_words = [] THEN [null]\n",
    "        ELSE paper.key_words\n",
    "    END AS key\n",
    "MATCH (p:Paper {{doi: paper.doi}}), (k:Keyword {{name: key}})\n",
    "MERGE (p)-[:TALKS_ABOUT]->(k)\",\n",
    "{{batchSize:100, parallel:true}})\n",
    "'''\n",
    "conn.query(query_string, db='paperswithcode')\n",
    "end = time.time()\n",
    "elapsed = end - start\n",
    "print(elapsed)"
   ]
  },
  {
   "cell_type": "markdown",
   "id": "3b5573d8",
   "metadata": {},
   "source": [
    "### Création des relations entre les noeuds `Paper` et `Publisher`"
   ]
  },
  {
   "cell_type": "code",
   "execution_count": 107,
   "id": "387cfe1b",
   "metadata": {},
   "outputs": [
    {
     "name": "stdout",
     "output_type": "stream",
     "text": [
      "4.750810146331787\n"
     ]
    }
   ],
   "source": [
    "start = time.time()\n",
    "query_string = f'''\n",
    "CALL apoc.periodic.iterate(\n",
    "\"CALL apoc.load.json('file:{file}') YIELD value as paper\",\n",
    "\"MATCH (p:Paper {{doi: paper.doi}}), (pub:Publisher {{name: paper.publisher}})\n",
    "MERGE (pub)-[:PUBLISHED]->(p)\",\n",
    "{{batchSize:100, parallel:true}})\n",
    "'''\n",
    "conn.query(query_string, db='paperswithcode')\n",
    "end = time.time()\n",
    "elapsed = end - start\n",
    "print(elapsed)"
   ]
  },
  {
   "cell_type": "markdown",
   "id": "c8811349",
   "metadata": {},
   "source": [
    "### Création des relations entre `Paper` et `Conference`"
   ]
  },
  {
   "cell_type": "code",
   "execution_count": 109,
   "id": "9da6cef3",
   "metadata": {},
   "outputs": [
    {
     "name": "stdout",
     "output_type": "stream",
     "text": [
      "6.086405992507935\n"
     ]
    }
   ],
   "source": [
    "start = time.time()\n",
    "query_string = f'''\n",
    "CALL apoc.periodic.iterate(\n",
    "\"CALL apoc.load.json('file:{file}') YIELD value as paper\",\n",
    "\"WITH paper, paper.conference as conference\n",
    "MATCH (p:Paper {{doi: paper.doi}}), (c:Conference {{name: conference.name}})\n",
    "MERGE (p)-[:PRESENTED_AT]->(c)\",\n",
    "{{batchSize:100, parallel:true}})\n",
    "'''\n",
    "conn.query(query_string, db='paperswithcode')\n",
    "end = time.time()\n",
    "elapsed = end - start\n",
    "print(elapsed)"
   ]
  },
  {
   "cell_type": "markdown",
   "id": "931badab",
   "metadata": {},
   "source": [
    "### Création des relations entre `Author` et `Organisation`"
   ]
  },
  {
   "cell_type": "code",
   "execution_count": 111,
   "id": "dabd72b3",
   "metadata": {},
   "outputs": [
    {
     "name": "stdout",
     "output_type": "stream",
     "text": [
      "4.136967897415161\n"
     ]
    }
   ],
   "source": [
    "start = time.time()\n",
    "query_string = f'''\n",
    "CALL apoc.periodic.iterate(\n",
    "\"CALL apoc.load.json('file:{file}') YIELD value as paper\",\n",
    "\"UNWIND paper.authors as aut\n",
    "UNWIND\n",
    "    CASE\n",
    "        WHEN aut.organisation = [] THEN [null]\n",
    "        ELSE aut.organisation\n",
    "    END AS org\n",
    "MATCH (a:Author {{name: aut.name}}), (o:Organisation {{name: org.name}})\n",
    "MERGE (a)-[:AFFILIATED_TO]->(o)\",\n",
    "{{batchSize:100, parallel:true}})\n",
    "'''\n",
    "conn.query(query_string, db='paperswithcode')\n",
    "end = time.time()\n",
    "elapsed = end - start\n",
    "print(elapsed)"
   ]
  },
  {
   "cell_type": "markdown",
   "id": "d5c2dd23",
   "metadata": {},
   "source": [
    "### Création des relations entre `Paper` et `References`"
   ]
  },
  {
   "cell_type": "code",
   "execution_count": 112,
   "id": "c14a3e85",
   "metadata": {},
   "outputs": [
    {
     "name": "stdout",
     "output_type": "stream",
     "text": [
      "4.433500051498413\n"
     ]
    }
   ],
   "source": [
    "start = time.time()\n",
    "query_string = f'''\n",
    "CALL apoc.periodic.iterate(\n",
    "\"CALL apoc.load.json('file:{file}') YIELD value as paper\",\n",
    "\"MATCH (p:Paper {{doi: paper.doi}}), (r:Paper)\n",
    "WHERE r.doi IN p.references\n",
    "CREATE (p)-[:REFERS_TO]->(r)\",\n",
    "{{batchSize:100, parallel:true}})\n",
    "'''\n",
    "conn.query(query_string, db='paperswithcode')\n",
    "end = time.time()\n",
    "elapsed = end - start\n",
    "print(elapsed)"
   ]
  },
  {
   "cell_type": "markdown",
   "id": "33d5a07a",
   "metadata": {},
   "source": [
    "## Requête de la Base"
   ]
  },
  {
   "cell_type": "markdown",
   "id": "dce5c276",
   "metadata": {},
   "source": [
    "Maintenant que la base est créée et notre graphe modélisé, nous la requêtons."
   ]
  },
  {
   "cell_type": "code",
   "execution_count": 12,
   "id": "2c2bf22f",
   "metadata": {},
   "outputs": [],
   "source": [
    "import pandas as pd"
   ]
  },
  {
   "cell_type": "markdown",
   "id": "079ee058",
   "metadata": {},
   "source": [
    "### Requête 1: Combien y-a-t-il de noeuds distincts pour chaque label?"
   ]
  },
  {
   "cell_type": "code",
   "execution_count": 113,
   "id": "ad89d2f8",
   "metadata": {},
   "outputs": [
    {
     "data": {
      "text/html": [
       "<div>\n",
       "<style scoped>\n",
       "    .dataframe tbody tr th:only-of-type {\n",
       "        vertical-align: middle;\n",
       "    }\n",
       "\n",
       "    .dataframe tbody tr th {\n",
       "        vertical-align: top;\n",
       "    }\n",
       "\n",
       "    .dataframe thead th {\n",
       "        text-align: right;\n",
       "    }\n",
       "</style>\n",
       "<table border=\"1\" class=\"dataframe\">\n",
       "  <thead>\n",
       "    <tr style=\"text-align: right;\">\n",
       "      <th></th>\n",
       "      <th>Nombre de Noeuds</th>\n",
       "    </tr>\n",
       "  </thead>\n",
       "  <tbody>\n",
       "    <tr>\n",
       "      <th>Paper</th>\n",
       "      <td>18300</td>\n",
       "    </tr>\n",
       "    <tr>\n",
       "      <th>Author</th>\n",
       "      <td>22460</td>\n",
       "    </tr>\n",
       "    <tr>\n",
       "      <th>Publisher</th>\n",
       "      <td>331</td>\n",
       "    </tr>\n",
       "    <tr>\n",
       "      <th>Organisation</th>\n",
       "      <td>4588</td>\n",
       "    </tr>\n",
       "    <tr>\n",
       "      <th>Conference</th>\n",
       "      <td>34</td>\n",
       "    </tr>\n",
       "    <tr>\n",
       "      <th>Keyword</th>\n",
       "      <td>265</td>\n",
       "    </tr>\n",
       "  </tbody>\n",
       "</table>\n",
       "</div>"
      ],
      "text/plain": [
       "             Nombre de Noeuds\n",
       "Paper                   18300\n",
       "Author                  22460\n",
       "Publisher                 331\n",
       "Organisation             4588\n",
       "Conference                 34\n",
       "Keyword                   265"
      ]
     },
     "metadata": {},
     "output_type": "display_data"
    }
   ],
   "source": [
    "labels = [\"Paper\", \"Author\", \"Publisher\", \"Organisation\", \"Conference\", \"Keyword\"]\n",
    "\n",
    "d = {\"Nombre de Noeuds\": pd.NA}\n",
    "df_res = pd.DataFrame(data=d, index=labels)\n",
    "\n",
    "for label in labels:\n",
    "    query_string = f'''\n",
    "    MATCH (p:{label})\n",
    "    RETURN count(*)\n",
    "    '''\n",
    "    res = [dict(_) for _ in conn.query(query_string, db='paperswithcode')]\n",
    "    df_res.loc[label, \"Nombre de Noeuds\"] = res[0][\"count(*)\"]\n",
    "    \n",
    "display(df_res)   "
   ]
  },
  {
   "cell_type": "markdown",
   "id": "9fc1d95f",
   "metadata": {},
   "source": [
    "### Requête 2: Quels sont les papiers les plus référencés?"
   ]
  },
  {
   "cell_type": "code",
   "execution_count": 118,
   "id": "315e6942",
   "metadata": {},
   "outputs": [
    {
     "data": {
      "text/html": [
       "<div>\n",
       "<style scoped>\n",
       "    .dataframe tbody tr th:only-of-type {\n",
       "        vertical-align: middle;\n",
       "    }\n",
       "\n",
       "    .dataframe tbody tr th {\n",
       "        vertical-align: top;\n",
       "    }\n",
       "\n",
       "    .dataframe thead th {\n",
       "        text-align: right;\n",
       "    }\n",
       "</style>\n",
       "<table border=\"1\" class=\"dataframe\">\n",
       "  <thead>\n",
       "    <tr style=\"text-align: right;\">\n",
       "      <th></th>\n",
       "      <th>Titre du Papier</th>\n",
       "      <th>Nombre de Référencements</th>\n",
       "    </tr>\n",
       "  </thead>\n",
       "  <tbody>\n",
       "    <tr>\n",
       "      <th>0</th>\n",
       "      <td>Webs of (p,q) 5-branes, five dimensional field...</td>\n",
       "      <td>16</td>\n",
       "    </tr>\n",
       "    <tr>\n",
       "      <th>1</th>\n",
       "      <td>A Fundamental Relation between Supermassive Bl...</td>\n",
       "      <td>13</td>\n",
       "    </tr>\n",
       "    <tr>\n",
       "      <th>2</th>\n",
       "      <td>SExtractor: Software for source extraction</td>\n",
       "      <td>13</td>\n",
       "    </tr>\n",
       "    <tr>\n",
       "      <th>3</th>\n",
       "      <td>emcee: The MCMC Hammer</td>\n",
       "      <td>12</td>\n",
       "    </tr>\n",
       "    <tr>\n",
       "      <th>4</th>\n",
       "      <td>The relationship between infrared, optical, an...</td>\n",
       "      <td>11</td>\n",
       "    </tr>\n",
       "  </tbody>\n",
       "</table>\n",
       "</div>"
      ],
      "text/plain": [
       "                                     Titre du Papier  Nombre de Référencements\n",
       "0  Webs of (p,q) 5-branes, five dimensional field...                        16\n",
       "1  A Fundamental Relation between Supermassive Bl...                        13\n",
       "2         SExtractor: Software for source extraction                        13\n",
       "3                             emcee: The MCMC Hammer                        12\n",
       "4  The relationship between infrared, optical, an...                        11"
      ]
     },
     "execution_count": 118,
     "metadata": {},
     "output_type": "execute_result"
    }
   ],
   "source": [
    "query_string = '''\n",
    "MATCH (p:Paper)-[rel:REFERS_TO]->(r:Paper)\n",
    "RETURN r.title, count(rel) as count\n",
    "ORDER BY count desc\n",
    "LIMIT 5\n",
    "'''\n",
    "\n",
    "df_res = pd.DataFrame([dict(_) for _ in conn.query(query_string, db='paperswithcode')])\n",
    "df_res = df_res.rename(columns={\"r.title\":\"Titre du Papier\", \"count\":\"Nombre de Référencements\"})\n",
    "df_res"
   ]
  },
  {
   "cell_type": "markdown",
   "id": "fbdb8ae0",
   "metadata": {},
   "source": [
    "### Requête 3: Quelles sont les organisations les plus représentées dans le dataset?"
   ]
  },
  {
   "cell_type": "code",
   "execution_count": 115,
   "id": "cfd3cd4e",
   "metadata": {},
   "outputs": [
    {
     "data": {
      "text/html": [
       "<div>\n",
       "<style scoped>\n",
       "    .dataframe tbody tr th:only-of-type {\n",
       "        vertical-align: middle;\n",
       "    }\n",
       "\n",
       "    .dataframe tbody tr th {\n",
       "        vertical-align: top;\n",
       "    }\n",
       "\n",
       "    .dataframe thead th {\n",
       "        text-align: right;\n",
       "    }\n",
       "</style>\n",
       "<table border=\"1\" class=\"dataframe\">\n",
       "  <thead>\n",
       "    <tr style=\"text-align: right;\">\n",
       "      <th></th>\n",
       "      <th>Organisation</th>\n",
       "      <th>Auteurs Affiliés</th>\n",
       "    </tr>\n",
       "  </thead>\n",
       "  <tbody>\n",
       "    <tr>\n",
       "      <th>0</th>\n",
       "      <td>*Center for Bits and Atoms and</td>\n",
       "      <td>1</td>\n",
       "    </tr>\n",
       "    <tr>\n",
       "      <th>1</th>\n",
       "      <td>*Department of Biological Sciences, Stanford U...</td>\n",
       "      <td>1</td>\n",
       "    </tr>\n",
       "    <tr>\n",
       "      <th>2</th>\n",
       "      <td>**Departments of Human Genetics, and Psychiatr...</td>\n",
       "      <td>1</td>\n",
       "    </tr>\n",
       "  </tbody>\n",
       "</table>\n",
       "</div>"
      ],
      "text/plain": [
       "                                        Organisation  Auteurs Affiliés\n",
       "0                     *Center for Bits and Atoms and                 1\n",
       "1  *Department of Biological Sciences, Stanford U...                 1\n",
       "2  **Departments of Human Genetics, and Psychiatr...                 1"
      ]
     },
     "execution_count": 115,
     "metadata": {},
     "output_type": "execute_result"
    }
   ],
   "source": [
    "query_string = '''\n",
    "MATCH (o:Organisation)\n",
    "RETURN o.name, count(o) as count\n",
    "ORDER BY count desc\n",
    "LIMIT 3\n",
    "'''\n",
    "\n",
    "df_res = pd.DataFrame([dict(_) for _ in conn.query(query_string, db='paperswithcode')])\n",
    "df_res = df_res.rename(columns={\"o.name\":\"Organisation\", \"count\":\"Auteurs Affiliés\"})\n",
    "df_res"
   ]
  },
  {
   "cell_type": "markdown",
   "id": "9e1fa317",
   "metadata": {},
   "source": [
    "### Requête 4: Quels sont les mots clé les plus cités?"
   ]
  },
  {
   "cell_type": "code",
   "execution_count": 116,
   "id": "85afdafb",
   "metadata": {},
   "outputs": [
    {
     "data": {
      "text/html": [
       "<div>\n",
       "<style scoped>\n",
       "    .dataframe tbody tr th:only-of-type {\n",
       "        vertical-align: middle;\n",
       "    }\n",
       "\n",
       "    .dataframe tbody tr th {\n",
       "        vertical-align: top;\n",
       "    }\n",
       "\n",
       "    .dataframe thead th {\n",
       "        text-align: right;\n",
       "    }\n",
       "</style>\n",
       "<table border=\"1\" class=\"dataframe\">\n",
       "  <thead>\n",
       "    <tr style=\"text-align: right;\">\n",
       "      <th></th>\n",
       "      <th>Mot-clé</th>\n",
       "      <th>Nombre de Citations</th>\n",
       "    </tr>\n",
       "  </thead>\n",
       "  <tbody>\n",
       "    <tr>\n",
       "      <th>0</th>\n",
       "      <td>Astronomy and Astrophysics</td>\n",
       "      <td>706</td>\n",
       "    </tr>\n",
       "    <tr>\n",
       "      <th>1</th>\n",
       "      <td>Space and Planetary Science</td>\n",
       "      <td>690</td>\n",
       "    </tr>\n",
       "    <tr>\n",
       "      <th>2</th>\n",
       "      <td>Nuclear and High Energy Physics</td>\n",
       "      <td>336</td>\n",
       "    </tr>\n",
       "    <tr>\n",
       "      <th>3</th>\n",
       "      <td>General Physics and Astronomy</td>\n",
       "      <td>247</td>\n",
       "    </tr>\n",
       "    <tr>\n",
       "      <th>4</th>\n",
       "      <td>Electrical and Electronic Engineering</td>\n",
       "      <td>144</td>\n",
       "    </tr>\n",
       "  </tbody>\n",
       "</table>\n",
       "</div>"
      ],
      "text/plain": [
       "                                 Mot-clé  Nombre de Citations\n",
       "0             Astronomy and Astrophysics                  706\n",
       "1            Space and Planetary Science                  690\n",
       "2        Nuclear and High Energy Physics                  336\n",
       "3          General Physics and Astronomy                  247\n",
       "4  Electrical and Electronic Engineering                  144"
      ]
     },
     "execution_count": 116,
     "metadata": {},
     "output_type": "execute_result"
    }
   ],
   "source": [
    "query_string = '''\n",
    "MATCH (p:Paper)-[rel:TALKS_ABOUT]->(k:Keyword)\n",
    "RETURN k.name, count(rel) as count\n",
    "ORDER BY count desc\n",
    "LIMIT 5\n",
    "'''\n",
    "\n",
    "df_res = pd.DataFrame([dict(_) for _ in conn.query(query_string, db='paperswithcode')])\n",
    "df_res = df_res.rename(columns={\"k.name\":\"Mot-clé\", \"count\":\"Nombre de Citations\"})\n",
    "df_res"
   ]
  },
  {
   "cell_type": "markdown",
   "id": "a1736baa",
   "metadata": {},
   "source": [
    "### Requête 5: Quel est le nombre de papiers publiés par publishers?"
   ]
  },
  {
   "cell_type": "code",
   "execution_count": null,
   "id": "5e08872b",
   "metadata": {},
   "outputs": [],
   "source": [
    "query_string = '''\n",
    "\n",
    "'''\n",
    "conn.query(query_string, db=\"paperswithcode\")"
   ]
  },
  {
   "cell_type": "markdown",
   "id": "21741cd1",
   "metadata": {},
   "source": [
    "### Requête 6: Existe-t-il des liens de référence entre certains papiers du dataset?"
   ]
  },
  {
   "cell_type": "code",
   "execution_count": null,
   "id": "500e00d5",
   "metadata": {},
   "outputs": [],
   "source": [
    "query_string = '''\n",
    "\n",
    "'''\n",
    "conn.query(query_string, db=\"paperswithcode\")"
   ]
  },
  {
   "cell_type": "markdown",
   "id": "cc0b4162",
   "metadata": {},
   "source": [
    "### Requête 7"
   ]
  },
  {
   "cell_type": "code",
   "execution_count": null,
   "id": "c30bf5a6",
   "metadata": {},
   "outputs": [],
   "source": [
    "query_string = '''\n",
    "\n",
    "'''\n",
    "conn.query(query_string, db=\"paperswithcode\")"
   ]
  },
  {
   "cell_type": "markdown",
   "id": "a18e4f84",
   "metadata": {},
   "source": [
    "### Requête 8"
   ]
  },
  {
   "cell_type": "code",
   "execution_count": null,
   "id": "a17d8432",
   "metadata": {},
   "outputs": [],
   "source": [
    "query_string = '''\n",
    "\n",
    "'''\n",
    "conn.query(query_string, db=\"paperswithcode\")"
   ]
  },
  {
   "cell_type": "markdown",
   "id": "377afeee",
   "metadata": {},
   "source": [
    "### Requête 9"
   ]
  },
  {
   "cell_type": "code",
   "execution_count": null,
   "id": "04f27322",
   "metadata": {},
   "outputs": [],
   "source": [
    "query_string = '''\n",
    "\n",
    "'''\n",
    "conn.query(query_string, db=\"paperswithcode\")"
   ]
  },
  {
   "cell_type": "markdown",
   "id": "c382b50e",
   "metadata": {},
   "source": [
    "### Requête 10"
   ]
  },
  {
   "cell_type": "code",
   "execution_count": null,
   "id": "6bf037dd",
   "metadata": {},
   "outputs": [],
   "source": [
    "query_string = '''\n",
    "\n",
    "'''\n",
    "conn.query(query_string, db=\"paperswithcode\")"
   ]
  },
  {
   "cell_type": "markdown",
   "id": "b753bd98",
   "metadata": {},
   "source": [
    "## Fermeture de la Connexion"
   ]
  },
  {
   "cell_type": "code",
   "execution_count": null,
   "id": "bea5b7ce",
   "metadata": {},
   "outputs": [],
   "source": [
    "conn.close()"
   ]
  }
 ],
 "metadata": {
  "kernelspec": {
   "display_name": "Python 3 (ipykernel)",
   "language": "python",
   "name": "python3"
  },
  "language_info": {
   "codemirror_mode": {
    "name": "ipython",
    "version": 3
   },
   "file_extension": ".py",
   "mimetype": "text/x-python",
   "name": "python",
   "nbconvert_exporter": "python",
   "pygments_lexer": "ipython3",
   "version": "3.8.12"
  }
 },
 "nbformat": 4,
 "nbformat_minor": 5
}
