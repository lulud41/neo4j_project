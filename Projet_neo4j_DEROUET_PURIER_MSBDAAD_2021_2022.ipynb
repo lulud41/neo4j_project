{
 "cells": [
  {
   "cell_type": "markdown",
   "id": "1c426bd1",
   "metadata": {},
   "source": [
    "# <center>Projet Neo4j - PapersWithCode</center>"
   ]
  },
  {
   "cell_type": "markdown",
   "id": "bdbf9598",
   "metadata": {},
   "source": [
    "**<center>Lucien DEROUET - Antoine PURIER</center>**"
   ]
  },
  {
   "cell_type": "markdown",
   "id": "e3b2a4f9",
   "metadata": {},
   "source": [
    "## Introduction"
   ]
  },
  {
   "cell_type": "markdown",
   "id": "09b38ae2",
   "metadata": {},
   "source": [
    "Dans le cadre de notre projet neo4j, nous construisons une base de données graphe à partir des données de publications hébergées sur le site https://paperswithcode.com. Des informations supplémentaires sur ces publications sont également récupérées sur d'autres sites via des API et du scraping.\n",
    "\n",
    "Le but est ensuite de requêter cette base pour répondre à des questions sur ces publications, telles que:\n",
    "- Quel est le domaine d'application le plus représenté sur PapersWithCodes?\n",
    "- Quels Universités est la plus représentée sur PapersWithCode en termes de nombre de publications?\n",
    "- Quels sont les papiers les plus cités pour un domaine précis?\n",
    "- ..."
   ]
  },
  {
   "cell_type": "markdown",
   "id": "699fa819",
   "metadata": {},
   "source": [
    "## Les Données"
   ]
  },
  {
   "cell_type": "markdown",
   "id": "27c30b34",
   "metadata": {},
   "source": [
    "Pour la récupération des données, nous partons du site https://paperswithcode.com. Son API publique nous permet facilement de récupérer les métadonnées des plus de 900.000 publications qu'il héberge."
   ]
  },
  {
   "cell_type": "markdown",
   "id": "74245b52",
   "metadata": {},
   "source": [
    "INSERER FLOWCHART ICI"
   ]
  },
  {
   "cell_type": "markdown",
   "id": "d29abe8e",
   "metadata": {},
   "source": [
    "## Récupération des Données"
   ]
  },
  {
   "cell_type": "markdown",
   "id": "ed266401",
   "metadata": {},
   "source": [
    "SECTION DEDIEE A TOUS LE CODE BRUT DE RECUP DES DONNEES : API + SCRAPING"
   ]
  },
  {
   "cell_type": "markdown",
   "id": "322ffe0c",
   "metadata": {},
   "source": [
    "## Connexion à Neo4j"
   ]
  },
  {
   "cell_type": "markdown",
   "id": "3594a513",
   "metadata": {},
   "source": [
    "Nous commençons par vérifier la version de neo4j installée sur la machine."
   ]
  },
  {
   "cell_type": "code",
   "execution_count": null,
   "id": "22ef1a06",
   "metadata": {},
   "outputs": [],
   "source": [
    "from neo4j import __version__ as neo4j_version\n",
    "print(neo4j_version)"
   ]
  },
  {
   "cell_type": "markdown",
   "id": "85521749",
   "metadata": {},
   "source": [
    "Nous créons ensuite une classe pour la connexion à neo4j."
   ]
  },
  {
   "cell_type": "code",
   "execution_count": 3,
   "id": "cfa6a9db",
   "metadata": {},
   "outputs": [],
   "source": [
    "from neo4j import GraphDatabase\n",
    "\n",
    "class Neo4jConnection:\n",
    "    \n",
    "    def __init__(self, uri, user, pwd):\n",
    "        self.__uri = uri\n",
    "        self.__user = user\n",
    "        self.__pwd = pwd\n",
    "        self.__driver = None\n",
    "        try:\n",
    "            self.__driver = GraphDatabase.driver(self.__uri, auth=(self.__user, self.__pwd))\n",
    "        except Exception as e:\n",
    "            print(\"Failed to create the driver:\", e)\n",
    "        \n",
    "    def close(self):\n",
    "        if self.__driver is not None:\n",
    "            self.__driver.close()\n",
    "        \n",
    "    def query(self, query, db=None):\n",
    "        assert self.__driver is not None, \"Driver not initialized!\"\n",
    "        session = None\n",
    "        response = None\n",
    "        try: \n",
    "            session = self.__driver.session(database=db) if db is not None else self.__driver.session() \n",
    "            response = list(session.run(query))\n",
    "        except Exception as e:\n",
    "            print(\"Query failed:\", e)\n",
    "        finally: \n",
    "            if session is not None:\n",
    "                session.close()\n",
    "        return response"
   ]
  },
  {
   "cell_type": "markdown",
   "id": "eb9a9686",
   "metadata": {},
   "source": [
    "Puis nous instantions une connexion."
   ]
  },
  {
   "cell_type": "code",
   "execution_count": 4,
   "id": "e0acad91",
   "metadata": {},
   "outputs": [],
   "source": [
    "conn = Neo4jConnection(uri=\"bolt://localhost:7687\", user=\"antoine\", pwd=\"easypassword\")"
   ]
  },
  {
   "cell_type": "markdown",
   "id": "289845e1",
   "metadata": {},
   "source": [
    "## Création de la Base"
   ]
  },
  {
   "cell_type": "markdown",
   "id": "884da45a",
   "metadata": {},
   "source": [
    "Nous créons maintenant la base de données graphe."
   ]
  },
  {
   "cell_type": "code",
   "execution_count": 5,
   "id": "274d6f80",
   "metadata": {},
   "outputs": [
    {
     "data": {
      "text/plain": [
       "[]"
      ]
     },
     "execution_count": 5,
     "metadata": {},
     "output_type": "execute_result"
    }
   ],
   "source": [
    "conn.query(\"CREATE OR REPLACE DATABASE paperswithcode\")"
   ]
  },
  {
   "cell_type": "markdown",
   "id": "320cc525",
   "metadata": {},
   "source": [
    "### Nodes"
   ]
  },
  {
   "cell_type": "code",
   "execution_count": null,
   "id": "d0ead3cc",
   "metadata": {},
   "outputs": [],
   "source": [
    "query_string = '''\n",
    "USING PERIODIC COMMIT 500\n",
    "LOAD CSV WITH HEADERS FROM\n",
    "'https://raw.githubusercontent.com/ngshya/datasets/master/cora/cora_content.csv'\n",
    "AS line FIELDTERMINATOR ','\n",
    "CREATE (:Paper {id: line.paper_id, class: line.label})\n",
    "'''\n",
    "conn.query(query_string, db='paperswithcode')"
   ]
  },
  {
   "cell_type": "markdown",
   "id": "c34eb0d5",
   "metadata": {},
   "source": [
    "### Edges"
   ]
  },
  {
   "cell_type": "code",
   "execution_count": null,
   "id": "99702aa5",
   "metadata": {},
   "outputs": [],
   "source": [
    "query_string = '''\n",
    "USING PERIODIC COMMIT 500\n",
    "LOAD CSV WITH HEADERS FROM\n",
    "'https://raw.githubusercontent.com/ngshya/datasets/master/cora/cora_cites.csv'\n",
    "AS line FIELDTERMINATOR ','\n",
    "MATCH (citing_paper:Paper {id: line.citing_paper_id}),(cited_paper:Paper {id: line.cited_paper_id})\n",
    "CREATE (citing_paper)-[:CITES]->(cited_paper)\n",
    "'''\n",
    "conn.query(query_string, db='coradb')"
   ]
  },
  {
   "cell_type": "markdown",
   "id": "33d5a07a",
   "metadata": {},
   "source": [
    "## Requête de la Base"
   ]
  },
  {
   "cell_type": "markdown",
   "id": "dce5c276",
   "metadata": {},
   "source": [
    "Maintenant que la base est créée et modélisée, nous pouvons la requêter."
   ]
  },
  {
   "cell_type": "markdown",
   "id": "079ee058",
   "metadata": {},
   "source": [
    "### Requête 1"
   ]
  },
  {
   "cell_type": "code",
   "execution_count": null,
   "id": "ad89d2f8",
   "metadata": {},
   "outputs": [],
   "source": [
    "query_string = '''\n",
    "MATCH (p:Paper)\n",
    "RETURN DISTINCT p.class\n",
    "ORDER BY p.class\n",
    "'''\n",
    "conn.query(query_string, db='coradb')"
   ]
  },
  {
   "cell_type": "markdown",
   "id": "9fc1d95f",
   "metadata": {},
   "source": [
    "### Requête 2"
   ]
  },
  {
   "cell_type": "code",
   "execution_count": null,
   "id": "315e6942",
   "metadata": {},
   "outputs": [],
   "source": [
    "query_string = '''\n",
    "MATCH (p:Paper)\n",
    "RETURN DISTINCT p.class\n",
    "ORDER BY p.class\n",
    "'''\n",
    "conn.query(query_string, db='coradb')"
   ]
  },
  {
   "cell_type": "markdown",
   "id": "fbdb8ae0",
   "metadata": {},
   "source": [
    "### Requête 3"
   ]
  },
  {
   "cell_type": "code",
   "execution_count": null,
   "id": "cfd3cd4e",
   "metadata": {},
   "outputs": [],
   "source": [
    "query_string = '''\n",
    "MATCH (p:Paper)\n",
    "RETURN DISTINCT p.class\n",
    "ORDER BY p.class\n",
    "'''\n",
    "conn.query(query_string, db='coradb')"
   ]
  },
  {
   "cell_type": "markdown",
   "id": "9e1fa317",
   "metadata": {},
   "source": [
    "### Requête 4"
   ]
  },
  {
   "cell_type": "code",
   "execution_count": null,
   "id": "85afdafb",
   "metadata": {},
   "outputs": [],
   "source": [
    "query_string = '''\n",
    "MATCH (p:Paper)\n",
    "RETURN DISTINCT p.class\n",
    "ORDER BY p.class\n",
    "'''\n",
    "conn.query(query_string, db='coradb')"
   ]
  },
  {
   "cell_type": "markdown",
   "id": "a1736baa",
   "metadata": {},
   "source": [
    "### Requête 5"
   ]
  },
  {
   "cell_type": "code",
   "execution_count": null,
   "id": "5e08872b",
   "metadata": {},
   "outputs": [],
   "source": [
    "query_string = '''\n",
    "MATCH (p:Paper)\n",
    "RETURN DISTINCT p.class\n",
    "ORDER BY p.class\n",
    "'''\n",
    "conn.query(query_string, db='coradb')"
   ]
  },
  {
   "cell_type": "markdown",
   "id": "21741cd1",
   "metadata": {},
   "source": [
    "### Requête 6"
   ]
  },
  {
   "cell_type": "code",
   "execution_count": null,
   "id": "500e00d5",
   "metadata": {},
   "outputs": [],
   "source": [
    "query_string = '''\n",
    "MATCH (p:Paper)\n",
    "RETURN DISTINCT p.class\n",
    "ORDER BY p.class\n",
    "'''\n",
    "conn.query(query_string, db='coradb')"
   ]
  },
  {
   "cell_type": "markdown",
   "id": "cc0b4162",
   "metadata": {},
   "source": [
    "### Requête 7"
   ]
  },
  {
   "cell_type": "code",
   "execution_count": null,
   "id": "c30bf5a6",
   "metadata": {},
   "outputs": [],
   "source": [
    "query_string = '''\n",
    "MATCH (p:Paper)\n",
    "RETURN DISTINCT p.class\n",
    "ORDER BY p.class\n",
    "'''\n",
    "conn.query(query_string, db='coradb')"
   ]
  },
  {
   "cell_type": "markdown",
   "id": "a18e4f84",
   "metadata": {},
   "source": [
    "### Requête 8"
   ]
  },
  {
   "cell_type": "code",
   "execution_count": null,
   "id": "a17d8432",
   "metadata": {},
   "outputs": [],
   "source": [
    "query_string = '''\n",
    "MATCH (p:Paper)\n",
    "RETURN DISTINCT p.class\n",
    "ORDER BY p.class\n",
    "'''\n",
    "conn.query(query_string, db='coradb')"
   ]
  },
  {
   "cell_type": "markdown",
   "id": "377afeee",
   "metadata": {},
   "source": [
    "### Requête 9"
   ]
  },
  {
   "cell_type": "code",
   "execution_count": null,
   "id": "04f27322",
   "metadata": {},
   "outputs": [],
   "source": [
    "query_string = '''\n",
    "MATCH (p:Paper)\n",
    "RETURN DISTINCT p.class\n",
    "ORDER BY p.class\n",
    "'''\n",
    "conn.query(query_string, db='coradb')"
   ]
  },
  {
   "cell_type": "markdown",
   "id": "c382b50e",
   "metadata": {},
   "source": [
    "### Requête 10"
   ]
  },
  {
   "cell_type": "code",
   "execution_count": null,
   "id": "6bf037dd",
   "metadata": {},
   "outputs": [],
   "source": [
    "query_string = '''\n",
    "MATCH (p:Paper)\n",
    "RETURN DISTINCT p.class\n",
    "ORDER BY p.class\n",
    "'''\n",
    "conn.query(query_string, db='coradb')"
   ]
  },
  {
   "cell_type": "markdown",
   "id": "b753bd98",
   "metadata": {},
   "source": [
    "## Fermeture de la Connexion"
   ]
  },
  {
   "cell_type": "code",
   "execution_count": null,
   "id": "bea5b7ce",
   "metadata": {},
   "outputs": [],
   "source": [
    "conn.close()"
   ]
  }
 ],
 "metadata": {
  "kernelspec": {
   "display_name": "Python 3 (ipykernel)",
   "language": "python",
   "name": "python3"
  },
  "language_info": {
   "codemirror_mode": {
    "name": "ipython",
    "version": 3
   },
   "file_extension": ".py",
   "mimetype": "text/x-python",
   "name": "python",
   "nbconvert_exporter": "python",
   "pygments_lexer": "ipython3",
   "version": "3.9.7"
  }
 },
 "nbformat": 4,
 "nbformat_minor": 5
}
